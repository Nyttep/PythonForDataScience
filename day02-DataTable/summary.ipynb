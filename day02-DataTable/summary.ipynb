{
 "cells": [
  {
   "cell_type": "markdown",
   "metadata": {},
   "source": [
    "# Learning how to work with data !"
   ]
  },
  {
   "cell_type": "markdown",
   "metadata": {},
   "source": [
    "## Pandas"
   ]
  },
  {
   "cell_type": "code",
   "execution_count": 2,
   "metadata": {},
   "outputs": [],
   "source": [
    "import pandas as pd"
   ]
  },
  {
   "cell_type": "markdown",
   "metadata": {},
   "source": [
    "### importing csv"
   ]
  },
  {
   "cell_type": "code",
   "execution_count": null,
   "metadata": {},
   "outputs": [],
   "source": [
    "life_expect = pd.read_csv('./csv/life_expectancy_years.csv')"
   ]
  },
  {
   "cell_type": "markdown",
   "metadata": {},
   "source": [
    "### getting info on the data"
   ]
  },
  {
   "cell_type": "code",
   "execution_count": null,
   "metadata": {},
   "outputs": [],
   "source": [
    "print(life_expect.head()) # print the first 5 rows of the dataframe\n",
    "print(life_expect.tail()) # print the last 5 rows of the dataframe"
   ]
  },
  {
   "cell_type": "code",
   "execution_count": null,
   "metadata": {},
   "outputs": [],
   "source": [
    "print(life_expect.describe()) # print the summary statistics of the dataframe"
   ]
  },
  {
   "cell_type": "code",
   "execution_count": null,
   "metadata": {},
   "outputs": [],
   "source": [
    "print(life_expect.info()) # print the summary information of the dataframe"
   ]
  },
  {
   "cell_type": "code",
   "execution_count": null,
   "metadata": {},
   "outputs": [],
   "source": [
    "print(life_expect.shape) # print the shape of the dataframe"
   ]
  },
  {
   "cell_type": "markdown",
   "metadata": {},
   "source": [
    "### setting custom index"
   ]
  },
  {
   "cell_type": "code",
   "execution_count": null,
   "metadata": {},
   "outputs": [],
   "source": [
    "life_expect = life_expect.set_index('country') # set the index of the dataframe to the 'country' column\n",
    "print(life_expect) # set the index of the dataframe to the 'country' column"
   ]
  },
  {
   "cell_type": "markdown",
   "metadata": {},
   "source": [
    "### Plotting / Visalizing the data using MatplotLib"
   ]
  },
  {
   "cell_type": "code",
   "execution_count": 3,
   "metadata": {},
   "outputs": [],
   "source": [
    "import matplotlib.pyplot as plt\n",
    "import numpy as np"
   ]
  },
  {
   "cell_type": "code",
   "execution_count": null,
   "metadata": {},
   "outputs": [],
   "source": [
    "life_expect.plot() # stupid plot of the whole dataframe\n",
    "plt.show() # show the plot"
   ]
  },
  {
   "cell_type": "code",
   "execution_count": null,
   "metadata": {},
   "outputs": [],
   "source": [
    "life_expect.loc['France'].plot(title=\"France Life expectancy Projections\", ylabel=\"Life expectancy\", xlabel=\"Year\", xticks=np.arange(0, 281, 40)) # plot the life expectancy of France\n",
    "plt.show()"
   ]
  },
  {
   "cell_type": "code",
   "execution_count": null,
   "metadata": {},
   "outputs": [],
   "source": [
    "path = './csv/population_total.csv'\n",
    "pop_tot = pd.read_csv(path, index_col='country')\n",
    "pop_tot = pop_tot.T # transpose the dataframe (make the rows the culumns)\n",
    "mapping = str.maketrans({'k': 'e3', 'M': 'e6', 'B': 'e9'})\n",
    "pop_tot = pop_tot.map(lambda y: y.translate(mapping))\n",
    "pop_tot = pop_tot.astype(float).astype(int)\n",
    "print(pop_tot)\n",
    "pop_tot.loc[:\"2050\", [\"France\", \"Belgium\"]].plot(title=\"Population Projections\", ylabel=\"Population\", xlabel=\"Year\", xticks=np.arange(0, 251, 40))\n",
    "plt.legend(loc='lower right')\n",
    "plt.yticks(np.arange(20000000, 70000000, 20000000), labels=['20M', '40M', '60M'])\n",
    "plt.show()"
   ]
  },
  {
   "cell_type": "code",
   "execution_count": 52,
   "metadata": {},
   "outputs": [
    {
     "ename": "TypeError",
     "evalue": "xticks(): Parameter 'labels' can't be set without setting 'ticks'",
     "output_type": "error",
     "traceback": [
      "\u001b[0;31m---------------------------------------------------------------------------\u001b[0m",
      "\u001b[0;31mTypeError\u001b[0m                                 Traceback (most recent call last)",
      "Cell \u001b[0;32mIn[52], line 11\u001b[0m\n\u001b[1;32m      8\u001b[0m df\u001b[38;5;241m.\u001b[39mdropna(axis\u001b[38;5;241m=\u001b[39m\u001b[38;5;241m0\u001b[39m, inplace\u001b[38;5;241m=\u001b[39m\u001b[38;5;28;01mTrue\u001b[39;00m, how\u001b[38;5;241m=\u001b[39m\u001b[38;5;124m'\u001b[39m\u001b[38;5;124many\u001b[39m\u001b[38;5;124m'\u001b[39m)\n\u001b[1;32m     10\u001b[0m df\u001b[38;5;241m.\u001b[39mplot(kind\u001b[38;5;241m=\u001b[39m\u001b[38;5;124m'\u001b[39m\u001b[38;5;124mscatter\u001b[39m\u001b[38;5;124m'\u001b[39m, x\u001b[38;5;241m=\u001b[39m\u001b[38;5;124m'\u001b[39m\u001b[38;5;124mgdp\u001b[39m\u001b[38;5;124m'\u001b[39m, y\u001b[38;5;241m=\u001b[39m\u001b[38;5;124m'\u001b[39m\u001b[38;5;124mlife_expectancy\u001b[39m\u001b[38;5;124m'\u001b[39m, ylabel\u001b[38;5;241m=\u001b[39m\u001b[38;5;124m'\u001b[39m\u001b[38;5;124mLife Expectancy\u001b[39m\u001b[38;5;124m'\u001b[39m, xlabel\u001b[38;5;241m=\u001b[39m\u001b[38;5;124m'\u001b[39m\u001b[38;5;124mGross domestic product\u001b[39m\u001b[38;5;124m'\u001b[39m, title\u001b[38;5;241m=\u001b[39m\u001b[38;5;124m'\u001b[39m\u001b[38;5;124m1900\u001b[39m\u001b[38;5;124m'\u001b[39m, logx\u001b[38;5;241m=\u001b[39m\u001b[38;5;28;01mTrue\u001b[39;00m)\n\u001b[0;32m---> 11\u001b[0m \u001b[43mplt\u001b[49m\u001b[38;5;241;43m.\u001b[39;49m\u001b[43mxticks\u001b[49m\u001b[43m(\u001b[49m\u001b[43mlabels\u001b[49m\u001b[38;5;241;43m=\u001b[39;49m\u001b[43m[\u001b[49m\u001b[38;5;124;43m'\u001b[39;49m\u001b[38;5;124;43m300\u001b[39;49m\u001b[38;5;124;43m'\u001b[39;49m\u001b[43m,\u001b[49m\u001b[43m \u001b[49m\u001b[38;5;124;43m'\u001b[39;49m\u001b[38;5;124;43m1k\u001b[39;49m\u001b[38;5;124;43m'\u001b[39;49m\u001b[43m,\u001b[49m\u001b[43m \u001b[49m\u001b[38;5;124;43m\"\u001b[39;49m\u001b[38;5;124;43m10k\u001b[39;49m\u001b[38;5;124;43m\"\u001b[39;49m\u001b[43m]\u001b[49m\u001b[43m)\u001b[49m\n\u001b[1;32m     12\u001b[0m plt\u001b[38;5;241m.\u001b[39mshow()\n\u001b[1;32m     13\u001b[0m \u001b[38;5;66;03m# print(df)\u001b[39;00m\n",
      "File \u001b[0;32m~/.local/lib/python3.10/site-packages/matplotlib/pyplot.py:2218\u001b[0m, in \u001b[0;36mxticks\u001b[0;34m(ticks, labels, minor, **kwargs)\u001b[0m\n\u001b[1;32m   2216\u001b[0m     locs \u001b[38;5;241m=\u001b[39m ax\u001b[38;5;241m.\u001b[39mget_xticks(minor\u001b[38;5;241m=\u001b[39mminor)\n\u001b[1;32m   2217\u001b[0m     \u001b[38;5;28;01mif\u001b[39;00m labels \u001b[38;5;129;01mis\u001b[39;00m \u001b[38;5;129;01mnot\u001b[39;00m \u001b[38;5;28;01mNone\u001b[39;00m:\n\u001b[0;32m-> 2218\u001b[0m         \u001b[38;5;28;01mraise\u001b[39;00m \u001b[38;5;167;01mTypeError\u001b[39;00m(\u001b[38;5;124m\"\u001b[39m\u001b[38;5;124mxticks(): Parameter \u001b[39m\u001b[38;5;124m'\u001b[39m\u001b[38;5;124mlabels\u001b[39m\u001b[38;5;124m'\u001b[39m\u001b[38;5;124m can\u001b[39m\u001b[38;5;124m'\u001b[39m\u001b[38;5;124mt be set \u001b[39m\u001b[38;5;124m\"\u001b[39m\n\u001b[1;32m   2219\u001b[0m                         \u001b[38;5;124m\"\u001b[39m\u001b[38;5;124mwithout setting \u001b[39m\u001b[38;5;124m'\u001b[39m\u001b[38;5;124mticks\u001b[39m\u001b[38;5;124m'\u001b[39m\u001b[38;5;124m\"\u001b[39m)\n\u001b[1;32m   2220\u001b[0m \u001b[38;5;28;01melse\u001b[39;00m:\n\u001b[1;32m   2221\u001b[0m     locs \u001b[38;5;241m=\u001b[39m ax\u001b[38;5;241m.\u001b[39mset_xticks(ticks, minor\u001b[38;5;241m=\u001b[39mminor)\n",
      "\u001b[0;31mTypeError\u001b[0m: xticks(): Parameter 'labels' can't be set without setting 'ticks'"
     ]
    },
    {
     "data": {
      "image/png": "[encoded data removed]",
      "text/plain": [
       "<Figure size 640x480 with 1 Axes>"
      ]
     },
     "metadata": {},
     "output_type": "display_data"
    }
   ],
   "source": [
    "life_expect = pd.read_csv('./csv/life_expectancy_years.csv', usecols=['country', '1900'])\n",
    "gdp = pd.read_csv('./csv/income_per_person_gdppercapita_ppp_inflation_adjusted.csv', usecols=['country', '1900'])\n",
    "life_expect = life_expect.set_index('country')\n",
    "gdp = gdp.set_index('country')\n",
    "life_expect.columns = ['life_expectancy']\n",
    "gdp.columns = ['gdp']\n",
    "df = pd.concat([life_expect, gdp], axis=1)\n",
    "df.dropna(axis=0, inplace=True, how='any')\n",
    "\n",
    "df.plot(kind='scatter', x='gdp', y='life_expectancy', ylabel='Life Expectancy', xlabel='Gross domestic product', title='1900', logx=True)\n",
    "plt.show()\n",
    "# print(df)"
   ]
  }
 ],
 "metadata": {
  "kernelspec": {
   "display_name": "Python 3",
   "language": "python",
   "name": "python3"
  },
  "language_info": {
   "codemirror_mode": {
    "name": "ipython",
    "version": 3
   },
   "file_extension": ".py",
   "mimetype": "text/x-python",
   "name": "python",
   "nbconvert_exporter": "python",
   "pygments_lexer": "ipython3",
   "version": "3.10.12"
  }
 },
 "nbformat": 4,
 "nbformat_minor": 2
}
