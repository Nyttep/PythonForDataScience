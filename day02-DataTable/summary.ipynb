{
 "cells": [
  {
   "cell_type": "markdown",
   "metadata": {},
   "source": [
    "# Learning how to work with data !"
   ]
  },
  {
   "cell_type": "markdown",
   "metadata": {},
   "source": [
    "## Pandas"
   ]
  },
  {
   "cell_type": "code",
   "execution_count": 1,
   "metadata": {},
   "outputs": [],
   "source": [
    "import pandas as pd"
   ]
  },
  {
   "cell_type": "markdown",
   "metadata": {},
   "source": [
    "### importing csv"
   ]
  },
  {
   "cell_type": "code",
   "execution_count": 49,
   "metadata": {},
   "outputs": [],
   "source": [
    "life_expect = pd.read_csv('./csv/life_expectancy_years.csv')"
   ]
  },
  {
   "cell_type": "markdown",
   "metadata": {},
   "source": [
    "### getting info on the data"
   ]
  },
  {
   "cell_type": "code",
   "execution_count": null,
   "metadata": {},
   "outputs": [],
   "source": [
    "print(life_expect.head()) # print the first 5 rows of the dataframe\n",
    "print(life_expect.tail()) # print the last 5 rows of the dataframe"
   ]
  },
  {
   "cell_type": "code",
   "execution_count": null,
   "metadata": {},
   "outputs": [],
   "source": [
    "print(life_expect.describe()) # print the summary statistics of the dataframe"
   ]
  },
  {
   "cell_type": "code",
   "execution_count": null,
   "metadata": {},
   "outputs": [],
   "source": [
    "print(life_expect.info()) # print the summary information of the dataframe"
   ]
  },
  {
   "cell_type": "code",
   "execution_count": null,
   "metadata": {},
   "outputs": [],
   "source": [
    "print(life_expect.shape) # print the shape of the dataframe"
   ]
  },
  {
   "cell_type": "markdown",
   "metadata": {},
   "source": [
    "### setting custom index"
   ]
  },
  {
   "cell_type": "code",
   "execution_count": null,
   "metadata": {},
   "outputs": [],
   "source": [
    "life_expect = life_expect.set_index('country') # set the index of the dataframe to the 'country' column\n",
    "print(life_expect) # set the index of the dataframe to the 'country' column"
   ]
  },
  {
   "cell_type": "markdown",
   "metadata": {},
   "source": [
    "### Plotting / Visalizing the data using MatplotLib"
   ]
  },
  {
   "cell_type": "code",
   "execution_count": 15,
   "metadata": {},
   "outputs": [],
   "source": [
    "import matplotlib.pyplot as plt"
   ]
  },
  {
   "cell_type": "code",
   "execution_count": null,
   "metadata": {},
   "outputs": [],
   "source": [
    "life_expect.plot() # stupid plot of the whole dataframe\n",
    "plt.show() # show the plot"
   ]
  },
  {
   "cell_type": "code",
   "execution_count": null,
   "metadata": {},
   "outputs": [],
   "source": [
    "life_expect.loc['France'].plot(title=\"France Life expectancy Projections\", ylabel=\"Life expectancy\", xlabel=\"Year\") # plot the life expectancy of France\n",
    "plt.show()"
   ]
  },
  {
   "cell_type": "code",
   "execution_count": 126,
   "metadata": {},
   "outputs": [
    {
     "name": "stdout",
     "output_type": "stream",
     "text": [
      "                       1800   1801   1802   1803   1804   1805   1806   1807  \\\n",
      "country                                                                        \n",
      "Afghanistan           3.28M  3.28M  3.28M  3.28M  3.28M  3.28M  3.28M  3.28M   \n",
      "Angola                1.57M  1.57M  1.57M  1.57M  1.57M  1.57M  1.57M  1.57M   \n",
      "Albania                400k   402k   404k   405k   407k   409k   411k   413k   \n",
      "Andorra                2650   2650   2650   2650   2650   2650   2650   2650   \n",
      "United Arab Emirates  40.2k  40.2k  40.2k  40.2k  40.2k  40.2k  40.2k  40.2k   \n",
      "...                     ...    ...    ...    ...    ...    ...    ...    ...   \n",
      "Samoa                 47.3k  47.3k  47.3k  47.3k  47.3k  47.3k  47.3k  47.2k   \n",
      "Yemen                 2.59M  2.59M  2.59M  2.59M  2.59M  2.59M  2.59M  2.59M   \n",
      "South Africa          1.45M  1.45M  1.46M  1.46M  1.47M  1.47M  1.48M  1.49M   \n",
      "Zambia                 747k   758k   770k   782k   794k   806k   818k   831k   \n",
      "Zimbabwe              1.09M  1.09M  1.09M  1.09M  1.09M  1.09M  1.09M  1.09M   \n",
      "\n",
      "                       1808   1809  ...   2091   2092   2093   2094   2095  \\\n",
      "country                             ...                                      \n",
      "Afghanistan           3.28M  3.28M  ...  76.6M  76.4M  76.3M  76.1M    76M   \n",
      "Angola                1.57M  1.57M  ...   168M   170M   172M   175M   177M   \n",
      "Albania                414k   416k  ...  1.33M   1.3M  1.27M  1.25M  1.22M   \n",
      "Andorra                2650   2650  ...    63k  62.9k  62.9k  62.8k  62.7k   \n",
      "United Arab Emirates  40.2k  40.2k  ...  12.3M  12.4M  12.5M  12.5M  12.6M   \n",
      "...                     ...    ...  ...    ...    ...    ...    ...    ...   \n",
      "Samoa                 47.2k  47.2k  ...   315k   314k   314k   314k   313k   \n",
      "Yemen                 2.59M  2.59M  ...  54.5M  54.4M  54.3M  54.1M    54M   \n",
      "South Africa          1.49M   1.5M  ...  79.8M  79.8M  79.7M  79.7M  79.6M   \n",
      "Zambia                 843k   856k  ...  74.4M  75.2M    76M  76.8M  77.6M   \n",
      "Zimbabwe              1.09M  1.09M  ...  30.8M  30.9M  30.9M  30.9M  30.9M   \n",
      "\n",
      "                       2096   2097   2098   2099   2100  \n",
      "country                                                  \n",
      "Afghanistan           75.8M  75.6M  75.4M  75.2M  74.9M  \n",
      "Angola                 179M   182M   184M   186M   188M  \n",
      "Albania               1.19M  1.17M  1.14M  1.11M  1.09M  \n",
      "Andorra               62.7k  62.6k  62.5k  62.5k  62.4k  \n",
      "United Arab Emirates  12.7M  12.7M  12.8M  12.8M  12.9M  \n",
      "...                     ...    ...    ...    ...    ...  \n",
      "Samoa                  313k   312k   312k   311k   310k  \n",
      "Yemen                 53.8M  53.7M  53.5M  53.4M  53.2M  \n",
      "South Africa          79.5M  79.5M  79.4M  79.3M  79.2M  \n",
      "Zambia                78.4M  79.2M    80M  80.8M  81.5M  \n",
      "Zimbabwe              30.9M    31M    31M    31M    31M  \n",
      "\n",
      "[197 rows x 301 columns]\n"
     ]
    }
   ],
   "source": [
    "path = './csv/population_total.csv'\n",
    "pop_tot = pd.read_csv(path)\n",
    "pop_tot = pop_tot.set_index('country')\n",
    "# print(pop_tot.loc['India'])\n",
    "tst = pop_tot.astype(\"string\")\n",
    "print(tst.dtypes)\n",
    "# replace the k and M with the correct values\n",
    "# print(tst.loc[tst.duplicated()])\n",
    "tst = tst.replace(to_replace='k', value='e3')\n",
    "tst = tst.replace(to_replace='M', value='e6')\n",
    "tst = tst.replace(to_replace='B', value='e9')\n",
    "print(tst)\n",
    "# pop_tot.loc['Andorra'].plot()\n",
    "# plt.show()"
   ]
  }
 ],
 "metadata": {
  "kernelspec": {
   "display_name": "Python 3",
   "language": "python",
   "name": "python3"
  },
  "language_info": {
   "codemirror_mode": {
    "name": "ipython",
    "version": 3
   },
   "file_extension": ".py",
   "mimetype": "text/x-python",
   "name": "python",
   "nbconvert_exporter": "python",
   "pygments_lexer": "ipython3",
   "version": "3.10.12"
  }
 },
 "nbformat": 4,
 "nbformat_minor": 2
}
