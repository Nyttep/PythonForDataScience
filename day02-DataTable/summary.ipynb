{
 "cells": [
  {
   "cell_type": "markdown",
   "metadata": {},
   "source": [
    "# Learning how to work with data !"
   ]
  },
  {
   "cell_type": "markdown",
   "metadata": {},
   "source": [
    "## Pandas"
   ]
  },
  {
   "cell_type": "code",
   "execution_count": 1,
   "metadata": {},
   "outputs": [],
   "source": [
    "import pandas as pd"
   ]
  },
  {
   "cell_type": "markdown",
   "metadata": {},
   "source": [
    "### importing csv"
   ]
  },
  {
   "cell_type": "code",
   "execution_count": null,
   "metadata": {},
   "outputs": [],
   "source": [
    "life_expect = pd.read_csv('./csv/life_expectancy_years.csv')"
   ]
  },
  {
   "cell_type": "markdown",
   "metadata": {},
   "source": [
    "### getting info on the data"
   ]
  },
  {
   "cell_type": "code",
   "execution_count": null,
   "metadata": {},
   "outputs": [],
   "source": [
    "print(life_expect.head()) # print the first 5 rows of the dataframe\n",
    "print(life_expect.tail()) # print the last 5 rows of the dataframe"
   ]
  },
  {
   "cell_type": "code",
   "execution_count": null,
   "metadata": {},
   "outputs": [],
   "source": [
    "print(life_expect.describe()) # print the summary statistics of the dataframe"
   ]
  },
  {
   "cell_type": "code",
   "execution_count": null,
   "metadata": {},
   "outputs": [],
   "source": [
    "print(life_expect.info()) # print the summary information of the dataframe"
   ]
  },
  {
   "cell_type": "code",
   "execution_count": null,
   "metadata": {},
   "outputs": [],
   "source": [
    "print(life_expect.shape) # print the shape of the dataframe"
   ]
  },
  {
   "cell_type": "markdown",
   "metadata": {},
   "source": [
    "### setting custom index"
   ]
  },
  {
   "cell_type": "code",
   "execution_count": null,
   "metadata": {},
   "outputs": [],
   "source": [
    "life_expect = life_expect.set_index('country') # set the index of the dataframe to the 'country' column\n",
    "print(life_expect) # set the index of the dataframe to the 'country' column"
   ]
  },
  {
   "cell_type": "markdown",
   "metadata": {},
   "source": [
    "### Plotting / Visalizing the data using MatplotLib"
   ]
  },
  {
   "cell_type": "code",
   "execution_count": 2,
   "metadata": {},
   "outputs": [],
   "source": [
    "import matplotlib.pyplot as plt\n",
    "import numpy as np"
   ]
  },
  {
   "cell_type": "code",
   "execution_count": null,
   "metadata": {},
   "outputs": [],
   "source": [
    "life_expect.plot() # stupid plot of the whole dataframe\n",
    "plt.show() # show the plot"
   ]
  },
  {
   "cell_type": "code",
   "execution_count": null,
   "metadata": {},
   "outputs": [],
   "source": [
    "life_expect.loc['France'].plot(title=\"France Life expectancy Projections\", ylabel=\"Life expectancy\", xlabel=\"Year\", xticks=np.arange(0, 281, 40)) # plot the life expectancy of France\n",
    "plt.show()"
   ]
  },
  {
   "cell_type": "code",
   "execution_count": null,
   "metadata": {},
   "outputs": [],
   "source": [
    "path = './csv/population_total.csv'\n",
    "pop_tot = pd.read_csv(path, index_col='country')\n",
    "pop_tot = pop_tot.T # transpose the dataframe (make the rows the culumns)\n",
    "mapping = str.maketrans({'k': 'e3', 'M': 'e6', 'B': 'e9'})\n",
    "pop_tot = pop_tot.map(lambda y: y.translate(mapping))\n",
    "pop_tot = pop_tot.astype(float).astype(int)\n",
    "print(pop_tot)\n",
    "pop_tot.loc[:\"2050\", [\"France\", \"Belgium\"]].plot(title=\"Population Projections\", ylabel=\"Population\", xlabel=\"Year\", xticks=np.arange(0, 251, 40))\n",
    "plt.legend(loc='lower right')\n",
    "plt.yticks(np.arange(20000000, 70000000, 20000000), labels=['20M', '40M', '60M'])\n",
    "plt.show()"
   ]
  },
  {
   "cell_type": "code",
   "execution_count": 22,
   "metadata": {},
   "outputs": [
    {
     "name": "stdout",
     "output_type": "stream",
     "text": [
      "      1900\n",
      "0    False\n",
      "1    False\n",
      "2    False\n",
      "3     True\n",
      "4    False\n",
      "..     ...\n",
      "190  False\n",
      "191  False\n",
      "192  False\n",
      "193  False\n",
      "194  False\n",
      "\n",
      "[195 rows x 1 columns]\n",
      "<class 'pandas.core.frame.DataFrame'>\n"
     ]
    }
   ],
   "source": [
    "life_expect = pd.read_csv('./csv/life_expectancy_years.csv', usecols=['1900'])\n",
    "gdp = pd.read_csv('./csv/income_per_person_gdppercapita_ppp_inflation_adjusted.csv', usecols=['1900'])\n",
    "print(life_expect.isna())\n",
    "print(gdp)\n"
   ]
  }
 ],
 "metadata": {
  "kernelspec": {
   "display_name": "Python 3",
   "language": "python",
   "name": "python3"
  },
  "language_info": {
   "codemirror_mode": {
    "name": "ipython",
    "version": 3
   },
   "file_extension": ".py",
   "mimetype": "text/x-python",
   "name": "python",
   "nbconvert_exporter": "python",
   "pygments_lexer": "ipython3",
   "version": "3.10.12"
  }
 },
 "nbformat": 4,
 "nbformat_minor": 2
}
