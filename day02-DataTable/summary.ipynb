{
 "cells": [
  {
   "cell_type": "markdown",
   "metadata": {},
   "source": [
    "# Learning how to work with data !"
   ]
  },
  {
   "cell_type": "markdown",
   "metadata": {},
   "source": [
    "## Pandas"
   ]
  },
  {
   "cell_type": "code",
   "execution_count": 2,
   "metadata": {},
   "outputs": [],
   "source": [
    "import pandas as pd"
   ]
  },
  {
   "cell_type": "markdown",
   "metadata": {},
   "source": [
    "### importing csv"
   ]
  },
  {
   "cell_type": "code",
   "execution_count": 19,
   "metadata": {},
   "outputs": [],
   "source": [
    "life_expect = pd.read_csv('./csv/life_expectancy_years.csv')"
   ]
  },
  {
   "cell_type": "markdown",
   "metadata": {},
   "source": [
    "### getting info on the data"
   ]
  },
  {
   "cell_type": "code",
   "execution_count": null,
   "metadata": {},
   "outputs": [],
   "source": [
    "print(life_expect.head()) # print the first 5 rows of the dataframe\n",
    "print(life_expect.tail()) # print the last 5 rows of the dataframe"
   ]
  },
  {
   "cell_type": "code",
   "execution_count": null,
   "metadata": {},
   "outputs": [],
   "source": [
    "print(life_expect.describe()) # print the summary statistics of the dataframe"
   ]
  },
  {
   "cell_type": "code",
   "execution_count": null,
   "metadata": {},
   "outputs": [],
   "source": [
    "print(life_expect.info()) # print the summary information of the dataframe"
   ]
  },
  {
   "cell_type": "code",
   "execution_count": null,
   "metadata": {},
   "outputs": [],
   "source": [
    "print(life_expect.shape) # print the shape of the dataframe"
   ]
  },
  {
   "cell_type": "markdown",
   "metadata": {},
   "source": [
    "### setting custom index"
   ]
  },
  {
   "cell_type": "code",
   "execution_count": null,
   "metadata": {},
   "outputs": [],
   "source": [
    "life_expect = life_expect.set_index('country') # set the index of the dataframe to the 'country' column\n",
    "print(life_expect) # set the index of the dataframe to the 'country' column"
   ]
  },
  {
   "cell_type": "markdown",
   "metadata": {},
   "source": [
    "### Plotting / Visalizing the data using MatplotLib"
   ]
  },
  {
   "cell_type": "code",
   "execution_count": 21,
   "metadata": {},
   "outputs": [],
   "source": [
    "import matplotlib.pyplot as plt"
   ]
  },
  {
   "cell_type": "code",
   "execution_count": null,
   "metadata": {},
   "outputs": [],
   "source": [
    "life_expect.plot() # stupid plot of the whole dataframe\n",
    "plt.show() # show the plot"
   ]
  },
  {
   "cell_type": "code",
   "execution_count": null,
   "metadata": {},
   "outputs": [],
   "source": [
    "life_expect.loc['France'].plot(title=\"France Life expectancy Projections\", ylabel=\"Life expectancy\", xlabel=\"Year\") # plot the life expectancy of France\n",
    "plt.show()"
   ]
  },
  {
   "cell_type": "code",
   "execution_count": 29,
   "metadata": {},
   "outputs": [
    {
     "name": "stdout",
     "output_type": "stream",
     "text": [
      "                        1800    1801    1802    1803    1804    1805    1806  \\\n",
      "country                                                                        \n",
      "Afghanistan           3.28e6  3.28e6  3.28e6  3.28e6  3.28e6  3.28e6  3.28e6   \n",
      "Angola                1.57e6  1.57e6  1.57e6  1.57e6  1.57e6  1.57e6  1.57e6   \n",
      "Albania                400e3   402e3   404e3   405e3   407e3   409e3   411e3   \n",
      "Andorra                 2650    2650    2650    2650    2650    2650    2650   \n",
      "United Arab Emirates  40.2e3  40.2e3  40.2e3  40.2e3  40.2e3  40.2e3  40.2e3   \n",
      "...                      ...     ...     ...     ...     ...     ...     ...   \n",
      "Samoa                 47.3e3  47.3e3  47.3e3  47.3e3  47.3e3  47.3e3  47.3e3   \n",
      "Yemen                 2.59e6  2.59e6  2.59e6  2.59e6  2.59e6  2.59e6  2.59e6   \n",
      "South Africa          1.45e6  1.45e6  1.46e6  1.46e6  1.47e6  1.47e6  1.48e6   \n",
      "Zambia                 747e3   758e3   770e3   782e3   794e3   806e3   818e3   \n",
      "Zimbabwe              1.09e6  1.09e6  1.09e6  1.09e6  1.09e6  1.09e6  1.09e6   \n",
      "\n",
      "                        1807    1808    1809  ...    2091    2092    2093  \\\n",
      "country                                       ...                           \n",
      "Afghanistan           3.28e6  3.28e6  3.28e6  ...  76.6e6  76.4e6  76.3e6   \n",
      "Angola                1.57e6  1.57e6  1.57e6  ...   168e6   170e6   172e6   \n",
      "Albania                413e3   414e3   416e3  ...  1.33e6   1.3e6  1.27e6   \n",
      "Andorra                 2650    2650    2650  ...    63e3  62.9e3  62.9e3   \n",
      "United Arab Emirates  40.2e3  40.2e3  40.2e3  ...  12.3e6  12.4e6  12.5e6   \n",
      "...                      ...     ...     ...  ...     ...     ...     ...   \n",
      "Samoa                 47.2e3  47.2e3  47.2e3  ...   315e3   314e3   314e3   \n",
      "Yemen                 2.59e6  2.59e6  2.59e6  ...  54.5e6  54.4e6  54.3e6   \n",
      "South Africa          1.49e6  1.49e6   1.5e6  ...  79.8e6  79.8e6  79.7e6   \n",
      "Zambia                 831e3   843e3   856e3  ...  74.4e6  75.2e6    76e6   \n",
      "Zimbabwe              1.09e6  1.09e6  1.09e6  ...  30.8e6  30.9e6  30.9e6   \n",
      "\n",
      "                        2094    2095    2096    2097    2098    2099    2100  \n",
      "country                                                                       \n",
      "Afghanistan           76.1e6    76e6  75.8e6  75.6e6  75.4e6  75.2e6  74.9e6  \n",
      "Angola                 175e6   177e6   179e6   182e6   184e6   186e6   188e6  \n",
      "Albania               1.25e6  1.22e6  1.19e6  1.17e6  1.14e6  1.11e6  1.09e6  \n",
      "Andorra               62.8e3  62.7e3  62.7e3  62.6e3  62.5e3  62.5e3  62.4e3  \n",
      "United Arab Emirates  12.5e6  12.6e6  12.7e6  12.7e6  12.8e6  12.8e6  12.9e6  \n",
      "...                      ...     ...     ...     ...     ...     ...     ...  \n",
      "Samoa                  314e3   313e3   313e3   312e3   312e3   311e3   310e3  \n",
      "Yemen                 54.1e6    54e6  53.8e6  53.7e6  53.5e6  53.4e6  53.2e6  \n",
      "South Africa          79.7e6  79.6e6  79.5e6  79.5e6  79.4e6  79.3e6  79.2e6  \n",
      "Zambia                76.8e6  77.6e6  78.4e6  79.2e6    80e6  80.8e6  81.5e6  \n",
      "Zimbabwe              30.9e6  30.9e6  30.9e6    31e6    31e6    31e6    31e6  \n",
      "\n",
      "[197 rows x 301 columns]\n"
     ]
    },
    {
     "ename": "TypeError",
     "evalue": "no numeric data to plot",
     "output_type": "error",
     "traceback": [
      "\u001b[0;31m---------------------------------------------------------------------------\u001b[0m",
      "\u001b[0;31mTypeError\u001b[0m                                 Traceback (most recent call last)",
      "Cell \u001b[0;32mIn[29], line 8\u001b[0m\n\u001b[1;32m      6\u001b[0m \u001b[38;5;66;03m# pop_tot = pop_tot.astype(float)\u001b[39;00m\n\u001b[1;32m      7\u001b[0m \u001b[38;5;28mprint\u001b[39m(pop_tot)\n\u001b[0;32m----> 8\u001b[0m \u001b[43mpop_tot\u001b[49m\u001b[38;5;241;43m.\u001b[39;49m\u001b[43mloc\u001b[49m\u001b[43m[\u001b[49m\u001b[38;5;124;43m'\u001b[39;49m\u001b[38;5;124;43mFrance\u001b[39;49m\u001b[38;5;124;43m'\u001b[39;49m\u001b[43m]\u001b[49m\u001b[38;5;241;43m.\u001b[39;49m\u001b[43mplot\u001b[49m\u001b[43m(\u001b[49m\u001b[43m)\u001b[49m\n\u001b[1;32m      9\u001b[0m plt\u001b[38;5;241m.\u001b[39mshow()\n",
      "File \u001b[0;32m~/.local/lib/python3.10/site-packages/pandas/plotting/_core.py:1030\u001b[0m, in \u001b[0;36mPlotAccessor.__call__\u001b[0;34m(self, *args, **kwargs)\u001b[0m\n\u001b[1;32m   1027\u001b[0m             label_name \u001b[38;5;241m=\u001b[39m label_kw \u001b[38;5;129;01mor\u001b[39;00m data\u001b[38;5;241m.\u001b[39mcolumns\n\u001b[1;32m   1028\u001b[0m             data\u001b[38;5;241m.\u001b[39mcolumns \u001b[38;5;241m=\u001b[39m label_name\n\u001b[0;32m-> 1030\u001b[0m \u001b[38;5;28;01mreturn\u001b[39;00m \u001b[43mplot_backend\u001b[49m\u001b[38;5;241;43m.\u001b[39;49m\u001b[43mplot\u001b[49m\u001b[43m(\u001b[49m\u001b[43mdata\u001b[49m\u001b[43m,\u001b[49m\u001b[43m \u001b[49m\u001b[43mkind\u001b[49m\u001b[38;5;241;43m=\u001b[39;49m\u001b[43mkind\u001b[49m\u001b[43m,\u001b[49m\u001b[43m \u001b[49m\u001b[38;5;241;43m*\u001b[39;49m\u001b[38;5;241;43m*\u001b[39;49m\u001b[43mkwargs\u001b[49m\u001b[43m)\u001b[49m\n",
      "File \u001b[0;32m~/.local/lib/python3.10/site-packages/pandas/plotting/_matplotlib/__init__.py:71\u001b[0m, in \u001b[0;36mplot\u001b[0;34m(data, kind, **kwargs)\u001b[0m\n\u001b[1;32m     69\u001b[0m         kwargs[\u001b[38;5;124m\"\u001b[39m\u001b[38;5;124max\u001b[39m\u001b[38;5;124m\"\u001b[39m] \u001b[38;5;241m=\u001b[39m \u001b[38;5;28mgetattr\u001b[39m(ax, \u001b[38;5;124m\"\u001b[39m\u001b[38;5;124mleft_ax\u001b[39m\u001b[38;5;124m\"\u001b[39m, ax)\n\u001b[1;32m     70\u001b[0m plot_obj \u001b[38;5;241m=\u001b[39m PLOT_CLASSES[kind](data, \u001b[38;5;241m*\u001b[39m\u001b[38;5;241m*\u001b[39mkwargs)\n\u001b[0;32m---> 71\u001b[0m \u001b[43mplot_obj\u001b[49m\u001b[38;5;241;43m.\u001b[39;49m\u001b[43mgenerate\u001b[49m\u001b[43m(\u001b[49m\u001b[43m)\u001b[49m\n\u001b[1;32m     72\u001b[0m plot_obj\u001b[38;5;241m.\u001b[39mdraw()\n\u001b[1;32m     73\u001b[0m \u001b[38;5;28;01mreturn\u001b[39;00m plot_obj\u001b[38;5;241m.\u001b[39mresult\n",
      "File \u001b[0;32m~/.local/lib/python3.10/site-packages/pandas/plotting/_matplotlib/core.py:499\u001b[0m, in \u001b[0;36mMPLPlot.generate\u001b[0;34m(self)\u001b[0m\n\u001b[1;32m    497\u001b[0m \u001b[38;5;129m@final\u001b[39m\n\u001b[1;32m    498\u001b[0m \u001b[38;5;28;01mdef\u001b[39;00m \u001b[38;5;21mgenerate\u001b[39m(\u001b[38;5;28mself\u001b[39m) \u001b[38;5;241m-\u001b[39m\u001b[38;5;241m>\u001b[39m \u001b[38;5;28;01mNone\u001b[39;00m:\n\u001b[0;32m--> 499\u001b[0m     \u001b[38;5;28;43mself\u001b[39;49m\u001b[38;5;241;43m.\u001b[39;49m\u001b[43m_compute_plot_data\u001b[49m\u001b[43m(\u001b[49m\u001b[43m)\u001b[49m\n\u001b[1;32m    500\u001b[0m     fig \u001b[38;5;241m=\u001b[39m \u001b[38;5;28mself\u001b[39m\u001b[38;5;241m.\u001b[39mfig\n\u001b[1;32m    501\u001b[0m     \u001b[38;5;28mself\u001b[39m\u001b[38;5;241m.\u001b[39m_make_plot(fig)\n",
      "File \u001b[0;32m~/.local/lib/python3.10/site-packages/pandas/plotting/_matplotlib/core.py:698\u001b[0m, in \u001b[0;36mMPLPlot._compute_plot_data\u001b[0;34m(self)\u001b[0m\n\u001b[1;32m    696\u001b[0m \u001b[38;5;66;03m# no non-numeric frames or series allowed\u001b[39;00m\n\u001b[1;32m    697\u001b[0m \u001b[38;5;28;01mif\u001b[39;00m is_empty:\n\u001b[0;32m--> 698\u001b[0m     \u001b[38;5;28;01mraise\u001b[39;00m \u001b[38;5;167;01mTypeError\u001b[39;00m(\u001b[38;5;124m\"\u001b[39m\u001b[38;5;124mno numeric data to plot\u001b[39m\u001b[38;5;124m\"\u001b[39m)\n\u001b[1;32m    700\u001b[0m \u001b[38;5;28mself\u001b[39m\u001b[38;5;241m.\u001b[39mdata \u001b[38;5;241m=\u001b[39m numeric_data\u001b[38;5;241m.\u001b[39mapply(\u001b[38;5;28mtype\u001b[39m(\u001b[38;5;28mself\u001b[39m)\u001b[38;5;241m.\u001b[39m_convert_to_ndarray)\n",
      "\u001b[0;31mTypeError\u001b[0m: no numeric data to plot"
     ]
    }
   ],
   "source": [
    "path = './csv/population_total.csv'\n",
    "pop_tot = pd.read_csv(path, index_col='country')\n",
    "pop_tot = pop_tot.apply(lambda x: x.apply(lambda y: y.replace('k', 'e3')))\n",
    "pop_tot = pop_tot.apply(lambda x: x.apply(lambda y: y.replace('M', 'e6')))\n",
    "pop_tot = pop_tot.apply(lambda x: x.apply(lambda y: y.replace('B', 'e9')))\n",
    "pop_tot = pop_tot.astype(float)\n",
    "print(pop_tot)\n",
    "pop_tot.loc['France'].plot()\n",
    "plt.show()"
   ]
  }
 ],
 "metadata": {
  "kernelspec": {
   "display_name": "Python 3",
   "language": "python",
   "name": "python3"
  },
  "language_info": {
   "codemirror_mode": {
    "name": "ipython",
    "version": 3
   },
   "file_extension": ".py",
   "mimetype": "text/x-python",
   "name": "python",
   "nbconvert_exporter": "python",
   "pygments_lexer": "ipython3",
   "version": "3.10.12"
  }
 },
 "nbformat": 4,
 "nbformat_minor": 2
}
